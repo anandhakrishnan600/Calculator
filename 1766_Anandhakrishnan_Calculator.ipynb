{
 "cells": [
  {
   "cell_type": "code",
   "execution_count": null,
   "id": "b110fbce-f86b-4aef-8a85-d6210807309d",
   "metadata": {},
   "outputs": [],
   "source": [
    "import tkinter as tk\n",
    "\n",
    "def click(event):\n",
    "    current = display.get()\n",
    "    text = event.widget.cget('text')\n",
    "    \n",
    "    if text == \"=\":\n",
    "        try:\n",
    "            result = eval(current)\n",
    "            display.delete(0, tk.END)\n",
    "            display.insert(tk.END,result)\n",
    "        except Exception as e:\n",
    "            display.delete(0, tk.END)\n",
    "            display.insert(tk.END, \"Error\")\n",
    "    elif text == \"C\":\n",
    "        \n",
    "        display.delete(0, tk.END)\n",
    "    else:\n",
    "        display.insert(tk.END, text)\n",
    "\n",
    "window = tk.Tk()\n",
    "window.title(\"Simple Calculator\")\n",
    "\n",
    "display = tk.Entry(window, font=(\"Arial\", 20), justify=\"right\")\n",
    "display.pack(fill=tk.X, padx=10, pady=10, ipady=10)\n",
    "\n",
    "btn_frame = tk.Frame(window)\n",
    "btn_frame.pack()\n",
    "\n",
    "button_labels = [\"7\", \"8\", \"9\", \"+\",\n",
    "                 \"4\", \"5\", \"6\", \"-\",\n",
    "                 \"1\", \"2\", \"3\", \"*\",\n",
    "                 \"C\", \"0\", \"=\", \"/\"]\n",
    "\n",
    "i = 0\n",
    "for label in button_labels:\n",
    "    button = tk.Button(btn_frame, text=label, font=(\"Arial\", 18), padx=15, pady=15)\n",
    "    button.grid(row=i // 4, column=i % 4, padx=8, pady=8)\n",
    "    button.bind(\"<Button-1>\", click) \n",
    "    i += 1  \n",
    "\n",
    "window.mainloop()"
   ]
  },
  {
   "cell_type": "code",
   "execution_count": null,
   "id": "c6d2f279-ee79-4ef8-9da6-3dd06a1e1dba",
   "metadata": {},
   "outputs": [],
   "source": []
  }
 ],
 "metadata": {
  "kernelspec": {
   "display_name": "Python 3 (ipykernel)",
   "language": "python",
   "name": "python3"
  },
  "language_info": {
   "codemirror_mode": {
    "name": "ipython",
    "version": 3
   },
   "file_extension": ".py",
   "mimetype": "text/x-python",
   "name": "python",
   "nbconvert_exporter": "python",
   "pygments_lexer": "ipython3",
   "version": "3.12.7"
  }
 },
 "nbformat": 4,
 "nbformat_minor": 5
}
